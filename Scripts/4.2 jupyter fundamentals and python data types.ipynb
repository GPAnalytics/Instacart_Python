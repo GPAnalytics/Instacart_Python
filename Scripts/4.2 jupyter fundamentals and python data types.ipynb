{
 "cells": [
  {
   "cell_type": "markdown",
   "id": "7ba3624b",
   "metadata": {},
   "source": [
    "# 01. Importing libraries"
   ]
  },
  {
   "cell_type": "code",
   "execution_count": 1,
   "id": "4cc82f6a",
   "metadata": {},
   "outputs": [],
   "source": [
    "# Import libraries\n",
    "import pandas as pd\n",
    "import numpy as np\n",
    "import os"
   ]
  },
  {
   "cell_type": "markdown",
   "id": "84615f2f",
   "metadata": {},
   "source": [
    "# 02. Python data types"
   ]
  },
  {
   "cell_type": "code",
   "execution_count": 29,
   "id": "70116e77",
   "metadata": {},
   "outputs": [
    {
     "data": {
      "text/plain": [
       "100"
      ]
     },
     "execution_count": 29,
     "metadata": {},
     "output_type": "execute_result"
    }
   ],
   "source": [
    "50+50"
   ]
  },
  {
   "cell_type": "code",
   "execution_count": 30,
   "id": "08fe670e",
   "metadata": {},
   "outputs": [
    {
     "data": {
      "text/plain": [
       "100"
      ]
     },
     "execution_count": 30,
     "metadata": {},
     "output_type": "execute_result"
    }
   ],
   "source": [
    "25+25+50"
   ]
  },
  {
   "cell_type": "code",
   "execution_count": 31,
   "id": "94a6dced",
   "metadata": {},
   "outputs": [
    {
     "data": {
      "text/plain": [
       "100"
      ]
     },
     "execution_count": 31,
     "metadata": {},
     "output_type": "execute_result"
    }
   ],
   "source": [
    "120-20"
   ]
  },
  {
   "cell_type": "markdown",
   "id": "b5f71426",
   "metadata": {},
   "source": []
  },
  {
   "cell_type": "code",
   "execution_count": 34,
   "id": "1abea98e",
   "metadata": {},
   "outputs": [],
   "source": [
    "a=2.2"
   ]
  },
  {
   "cell_type": "code",
   "execution_count": 35,
   "id": "552bcb56",
   "metadata": {},
   "outputs": [],
   "source": [
    "b=4.4"
   ]
  },
  {
   "cell_type": "code",
   "execution_count": 36,
   "id": "24cb33b4",
   "metadata": {},
   "outputs": [
    {
     "name": "stdout",
     "output_type": "stream",
     "text": [
      "2.2\n"
     ]
    }
   ],
   "source": [
    "print(a)"
   ]
  },
  {
   "cell_type": "code",
   "execution_count": 37,
   "id": "77fab66f",
   "metadata": {},
   "outputs": [
    {
     "name": "stdout",
     "output_type": "stream",
     "text": [
      "4.4\n"
     ]
    }
   ],
   "source": [
    "print(b)\n"
   ]
  },
  {
   "cell_type": "code",
   "execution_count": 38,
   "id": "088816c3",
   "metadata": {},
   "outputs": [
    {
     "data": {
      "text/plain": [
       "2.0"
      ]
     },
     "execution_count": 38,
     "metadata": {},
     "output_type": "execute_result"
    }
   ],
   "source": [
    "b/a"
   ]
  },
  {
   "cell_type": "markdown",
   "id": "d5a311bc",
   "metadata": {},
   "source": []
  },
  {
   "cell_type": "code",
   "execution_count": 39,
   "id": "3425861e",
   "metadata": {},
   "outputs": [],
   "source": [
    "c='Pyth'"
   ]
  },
  {
   "cell_type": "code",
   "execution_count": 40,
   "id": "204f6ed0",
   "metadata": {},
   "outputs": [],
   "source": [
    "d='on'"
   ]
  },
  {
   "cell_type": "code",
   "execution_count": 41,
   "id": "f797af22",
   "metadata": {},
   "outputs": [
    {
     "data": {
      "text/plain": [
       "'Python'"
      ]
     },
     "execution_count": 41,
     "metadata": {},
     "output_type": "execute_result"
    }
   ],
   "source": [
    "c+d"
   ]
  },
  {
   "cell_type": "code",
   "execution_count": 42,
   "id": "3e7bd615",
   "metadata": {},
   "outputs": [],
   "source": [
    "e='Learning'"
   ]
  },
  {
   "cell_type": "code",
   "execution_count": 47,
   "id": "5c31cb82",
   "metadata": {},
   "outputs": [],
   "source": [
    "f=' data analytics.'"
   ]
  },
  {
   "cell_type": "code",
   "execution_count": 48,
   "id": "3c921cc5",
   "metadata": {},
   "outputs": [
    {
     "data": {
      "text/plain": [
       "'Learning data analytics.'"
      ]
     },
     "execution_count": 48,
     "metadata": {},
     "output_type": "execute_result"
    }
   ],
   "source": [
    "e+f"
   ]
  },
  {
   "cell_type": "code",
   "execution_count": 49,
   "id": "b0b88cce",
   "metadata": {},
   "outputs": [],
   "source": [
    "g='Taking'"
   ]
  },
  {
   "cell_type": "code",
   "execution_count": 50,
   "id": "ce16b41d",
   "metadata": {},
   "outputs": [],
   "source": [
    "h=' Data Immersion'"
   ]
  },
  {
   "cell_type": "code",
   "execution_count": 51,
   "id": "0795b40c",
   "metadata": {},
   "outputs": [],
   "source": [
    "i=' Course.'"
   ]
  },
  {
   "cell_type": "code",
   "execution_count": 52,
   "id": "73197708",
   "metadata": {},
   "outputs": [
    {
     "data": {
      "text/plain": [
       "'Taking Data Immersion Course.'"
      ]
     },
     "execution_count": 52,
     "metadata": {},
     "output_type": "execute_result"
    }
   ],
   "source": [
    "g+h+i"
   ]
  },
  {
   "cell_type": "code",
   "execution_count": 53,
   "id": "a446e629",
   "metadata": {},
   "outputs": [
    {
     "data": {
      "text/plain": [
       "'PythPythPythPythPythPythPythPythPythPythPythPythPythPythPythPythPythPythPythPythPythPythPythPythPythPythPythPythPythPythPythPythPythPythPythPythPythPythPythPythPythPythPythPythPythPythPythPythPythPythPythPythPythPythPythPythPythPythPythPythPythPythPythPythPythPythPythPythPythPythPythPythPythPythPythPythPythPythPythPythPythPythPythPythPythPythPythPythPythPythPythPythPythPythPythPythPythPythPythPyth'"
      ]
     },
     "execution_count": 53,
     "metadata": {},
     "output_type": "execute_result"
    }
   ],
   "source": [
    "100*c"
   ]
  },
  {
   "cell_type": "code",
   "execution_count": null,
   "id": "94b9543c",
   "metadata": {},
   "outputs": [],
   "source": []
  }
 ],
 "metadata": {
  "kernelspec": {
   "display_name": "Python 3 (ipykernel)",
   "language": "python",
   "name": "python3"
  },
  "language_info": {
   "codemirror_mode": {
    "name": "ipython",
    "version": 3
   },
   "file_extension": ".py",
   "mimetype": "text/x-python",
   "name": "python",
   "nbconvert_exporter": "python",
   "pygments_lexer": "ipython3",
   "version": "3.9.13"
  }
 },
 "nbformat": 4,
 "nbformat_minor": 5
}
